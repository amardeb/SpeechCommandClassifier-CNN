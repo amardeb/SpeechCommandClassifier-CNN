{
  "nbformat": 4,
  "nbformat_minor": 0,
  "metadata": {
    "colab": {
      "name": "digit_recognizer.ipynb",
      "version": "0.3.2",
      "provenance": [],
      "collapsed_sections": []
    },
    "kernelspec": {
      "name": "python3",
      "display_name": "Python 3"
    },
    "accelerator": "GPU"
  },
  "cells": [
    {
      "metadata": {
        "id": "0sK83270bmhN",
        "colab_type": "text"
      },
      "cell_type": "markdown",
      "source": [
        "#Speech Command Classifier "
      ]
    },
    {
      "metadata": {
        "id": "xOW4BjUib1go",
        "colab_type": "text"
      },
      "cell_type": "markdown",
      "source": [
        "** We first download the speech command dataset provided by the tensorflow team. It consists of 35 different sets of audio which represent either english commands or miscellaneous words.  There are total 105829 utterances in the dataset which is wuite impactful for deep learning tasks.**\n"
      ]
    },
    {
      "metadata": {
        "id": "B16R1SG6g-4o",
        "colab_type": "code",
        "outputId": "4c89b5ce-14fd-48b7-cf2f-e711d489eebc",
        "colab": {
          "base_uri": "https://localhost:8080/",
          "height": 223
        }
      },
      "cell_type": "code",
      "source": [
        "!wget http://download.tensorflow.org/data/speech_commands_v0.01.tar.gz  \n",
        "!tar xf speech_commands_v0.01.tar.gz  "
      ],
      "execution_count": 1,
      "outputs": [
        {
          "output_type": "stream",
          "text": [
            "--2018-11-09 08:43:59--  http://download.tensorflow.org/data/speech_commands_v0.01.tar.gz\n",
            "Resolving download.tensorflow.org (download.tensorflow.org)... 108.177.125.128, 2404:6800:4008:c03::80\n",
            "Connecting to download.tensorflow.org (download.tensorflow.org)|108.177.125.128|:80... connected.\n",
            "HTTP request sent, awaiting response... 200 OK\n",
            "Length: 1489096277 (1.4G) [application/gzip]\n",
            "Saving to: ‘speech_commands_v0.01.tar.gz’\n",
            "\n",
            "speech_commands_v0. 100%[===================>]   1.39G  48.2MB/s    in 31s     \n",
            "\n",
            "2018-11-09 08:44:30 (45.5 MB/s) - ‘speech_commands_v0.01.tar.gz’ saved [1489096277/1489096277]\n",
            "\n"
          ],
          "name": "stdout"
        }
      ]
    },
    {
      "metadata": {
        "id": "kmq82YlacPvH",
        "colab_type": "text"
      },
      "cell_type": "markdown",
      "source": [
        "**Next we import necessary python modules for audio processing and deep learning framework.**"
      ]
    },
    {
      "metadata": {
        "id": "UkiLivWxnfpx",
        "colab_type": "code",
        "outputId": "66d1c3f7-1390-4fcc-c5ab-bdb5a373dfbe",
        "colab": {
          "base_uri": "https://localhost:8080/",
          "height": 36
        }
      },
      "cell_type": "code",
      "source": [
        "import numpy as np\n",
        "import os\n",
        "from sklearn.model_selection import train_test_split\n",
        "import glob\n",
        "import IPython\n",
        "import cv2\n",
        "import matplotlib.pyplot as plt\n",
        "import pandas as pd\n",
        "import pickle\n",
        "from keras.utils import to_categorical\n",
        "from keras.layers import Input, Add, Dropout, Dense, GRU, Bidirectional, Masking, TimeDistributed, LSTM, Conv1D, Activation, ZeroPadding2D, BatchNormalization, Flatten, Conv2D, AveragePooling2D, MaxPooling2D, GlobalMaxPooling2D\n",
        "from keras.models import Model, load_model, Sequential\n",
        "from keras.preprocessing import image\n",
        "from keras.preprocessing.image import ImageDataGenerator\n",
        "from keras.utils import layer_utils, plot_model, to_categorical\n",
        "from keras.utils.data_utils import get_file\n",
        "from keras.applications.imagenet_utils import preprocess_input\n",
        "from keras.applications import InceptionV3\n",
        "from keras.callbacks import ModelCheckpoint, ReduceLROnPlateau\n",
        "from keras import backend as K\n",
        "from keras import optimizers, losses, activations, models\n",
        "from keras.initializers import glorot_uniform\n",
        "from scipy.fftpack import fft\n",
        "from scipy.io import wavfile\n",
        "from scipy import signal\n",
        "from __future__ import print_function\n",
        "import keras\n",
        "import copy\n",
        "from keras import backend as k\n",
        "%matplotlib inline\n",
        "import matplotlib.pyplot as plt\n",
        "import numpy as np\n",
        "from scipy.signal import butter, lfilter\n",
        "import scipy.ndimage\n",
        "from scipy.io import wavfile"
      ],
      "execution_count": 1,
      "outputs": [
        {
          "output_type": "stream",
          "text": [
            "Using TensorFlow backend.\n"
          ],
          "name": "stderr"
        }
      ]
    },
    {
      "metadata": {
        "id": "g4fMgmSncgcW",
        "colab_type": "text"
      },
      "cell_type": "markdown",
      "source": [
        "**We define several functions to convert wav audio to their spectrogram representation and also vice versa. Short-time Fourier Transformation is used for the conversion of the wav audio to spectrogram as it can be easily fed as image into the Convolutional Neural Network which gives state of the art performance for extracting features from images and classification tasks.**"
      ]
    },
    {
      "metadata": {
        "id": "lrgqMlQDZL83",
        "colab_type": "code",
        "colab": {}
      },
      "cell_type": "code",
      "source": [
        "# The credit for this section of the code goes to Tim Sainburg: https://timsainb.github.io/spectrograms-mfccs-and-inversion-in-python.html\n",
        "# Most of the Spectrograms and Inversion are taken from: https://gist.github.com/kastnerkyle/179d6e9a88202ab0a2fe\n",
        "\n",
        "def overlap(X, window_size, window_step):\n",
        "    \"\"\"\n",
        "    Create an overlapped version of X\n",
        "    Parameters\n",
        "    ----------\n",
        "    X : ndarray, shape=(n_samples,)\n",
        "        Input signal to window and overlap\n",
        "    window_size : int\n",
        "        Size of windows to take\n",
        "    window_step : int\n",
        "        Step size between windows\n",
        "    Returns\n",
        "    -------\n",
        "    X_strided : shape=(n_windows, window_size)\n",
        "        2D array of overlapped X\n",
        "    \"\"\"\n",
        "    if window_size % 2 != 0:\n",
        "        raise ValueError(\"Window size must be even!\")\n",
        "    # Make sure there are an even number of windows before stridetricks\n",
        "    append = np.zeros((window_size - len(X) % window_size))\n",
        "    X = np.hstack((X, append))\n",
        "\n",
        "    ws = window_size\n",
        "    ss = window_step\n",
        "    a = X\n",
        "\n",
        "    valid = len(a) - ws\n",
        "    nw = (valid) // ss\n",
        "    out = np.ndarray((nw,ws),dtype = a.dtype)\n",
        "\n",
        "    for i in range(nw):\n",
        "        # \"slide\" the window along the samples\n",
        "        start = i * ss\n",
        "        stop = start + ws\n",
        "        out[i] = a[start : stop]\n",
        "\n",
        "    return out\n",
        "\n",
        "\n",
        "def stft(X, fftsize=128, step=65, mean_normalize=True, real=False,\n",
        "         compute_onesided=True):\n",
        "    \"\"\"\n",
        "    Compute STFT for 1D real valued input X\n",
        "    \"\"\"\n",
        "    if real:\n",
        "        local_fft = np.fft.rfft\n",
        "        cut = -1\n",
        "    else:\n",
        "        local_fft = np.fft.fft\n",
        "        cut = None\n",
        "    if compute_onesided:\n",
        "        cut = fftsize // 2\n",
        "    if mean_normalize:\n",
        "        X -= X.mean()\n",
        "\n",
        "    X = overlap(X, fftsize, step)\n",
        "    \n",
        "    size = fftsize\n",
        "    win = 0.54 - .46 * np.cos(2 * np.pi * np.arange(size) / (size - 1))\n",
        "    X = X * win[None]\n",
        "    X = local_fft(X)[:, :cut]\n",
        "    return X\n",
        "\n",
        "def pretty_spectrogram(d,log = True, thresh= 5, fft_size = 512, step_size = 64):\n",
        "    \"\"\"\n",
        "    creates a spectrogram\n",
        "    log: take the log of the spectrgram\n",
        "    thresh: threshold minimum power for log spectrogram\n",
        "    \"\"\"\n",
        "    specgram = np.abs(stft(d, fftsize=fft_size, step=step_size, real=False,\n",
        "        compute_onesided=True))\n",
        "  \n",
        "    if log == True:\n",
        "        specgram /= specgram.max() # volume normalize to max 1\n",
        "        specgram = np.log10(specgram) # take log\n",
        "        specgram[specgram < -thresh] = -thresh # set anything less than the threshold as the threshold\n",
        "    else:\n",
        "        specgram[specgram < thresh] = thresh # set anything less than the threshold as the threshold\n",
        "    \n",
        "    return specgram\n",
        "\n",
        "# Also mostly modified or taken from https://gist.github.com/kastnerkyle/179d6e9a88202ab0a2fe\n",
        "def invert_pretty_spectrogram(X_s, log = True, fft_size = 512, step_size = 512/4, n_iter = 10):\n",
        "    \n",
        "    if log == True:\n",
        "        X_s = np.power(10, X_s)\n",
        "\n",
        "    X_s = np.concatenate([X_s, X_s[:, ::-1]], axis=1)\n",
        "    X_t = iterate_invert_spectrogram(X_s, fft_size, step_size, n_iter=n_iter)\n",
        "    return X_t\n",
        "\n",
        "def iterate_invert_spectrogram(X_s, fftsize, step, n_iter=10, verbose=False):\n",
        "    \"\"\"\n",
        "    Under MSR-LA License\n",
        "    Based on MATLAB implementation from Spectrogram Inversion Toolbox\n",
        "    References\n",
        "    ----------\n",
        "    D. Griffin and J. Lim. Signal estimation from modified\n",
        "    short-time Fourier transform. IEEE Trans. Acoust. Speech\n",
        "    Signal Process., 32(2):236-243, 1984.\n",
        "    Malcolm Slaney, Daniel Naar and Richard F. Lyon. Auditory\n",
        "    Model Inversion for Sound Separation. Proc. IEEE-ICASSP,\n",
        "    Adelaide, 1994, II.77-80.\n",
        "    Xinglei Zhu, G. Beauregard, L. Wyse. Real-Time Signal\n",
        "    Estimation from Modified Short-Time Fourier Transform\n",
        "    Magnitude Spectra. IEEE Transactions on Audio Speech and\n",
        "    Language Processing, 08/2007.\n",
        "    \"\"\"\n",
        "    reg = np.max(X_s) / 1E8\n",
        "    X_best = copy.deepcopy(X_s)\n",
        "    for i in range(n_iter):\n",
        "        if verbose:\n",
        "            print(\"Runnning iter %i\" % i)\n",
        "        if i == 0:\n",
        "            X_t = invert_spectrogram(X_best, step, calculate_offset=True,\n",
        "                                     set_zero_phase=True)\n",
        "        else:\n",
        "            # Calculate offset was False in the MATLAB version\n",
        "            # but in mine it massively improves the result\n",
        "            # Possible bug in my impl?\n",
        "            X_t = invert_spectrogram(X_best, step, calculate_offset=True,\n",
        "                                     set_zero_phase=False)\n",
        "        est = stft(X_t, fftsize=fftsize, step=step, compute_onesided=False)\n",
        "        phase = est / np.maximum(reg, np.abs(est))\n",
        "        X_best = X_s * phase[:len(X_s)]\n",
        "    X_t = invert_spectrogram(X_best, step, calculate_offset=True,\n",
        "                             set_zero_phase=False)\n",
        "    return np.real(X_t)\n",
        "\n",
        "def invert_spectrogram(X_s, step, calculate_offset=True, set_zero_phase=True):\n",
        "    \"\"\"\n",
        "    Under MSR-LA License\n",
        "    Based on MATLAB implementation from Spectrogram Inversion Toolbox\n",
        "    References\n",
        "    ----------\n",
        "    D. Griffin and J. Lim. Signal estimation from modified\n",
        "    short-time Fourier transform. IEEE Trans. Acoust. Speech\n",
        "    Signal Process., 32(2):236-243, 1984.\n",
        "    Malcolm Slaney, Daniel Naar and Richard F. Lyon. Auditory\n",
        "    Model Inversion for Sound Separation. Proc. IEEE-ICASSP,\n",
        "    Adelaide, 1994, II.77-80.\n",
        "    Xinglei Zhu, G. Beauregard, L. Wyse. Real-Time Signal\n",
        "    Estimation from Modified Short-Time Fourier Transform\n",
        "    Magnitude Spectra. IEEE Transactions on Audio Speech and\n",
        "    Language Processing, 08/2007.\n",
        "    \"\"\"\n",
        "    size = int(X_s.shape[1] // 2)\n",
        "    wave = np.zeros((X_s.shape[0] * step + size))\n",
        "    # Getting overflow warnings with 32 bit...\n",
        "    wave = wave.astype('float64')\n",
        "    total_windowing_sum = np.zeros((X_s.shape[0] * step + size))\n",
        "    win = 0.54 - .46 * np.cos(2 * np.pi * np.arange(size) / (size - 1))\n",
        "\n",
        "    est_start = int(size // 2) - 1\n",
        "    est_end = est_start + size\n",
        "    for i in range(X_s.shape[0]):\n",
        "        wave_start = int(step * i)\n",
        "        wave_end = wave_start + size\n",
        "        if set_zero_phase:\n",
        "            spectral_slice = X_s[i].real + 0j\n",
        "        else:\n",
        "            # already complex\n",
        "            spectral_slice = X_s[i]\n",
        "\n",
        "        # Don't need fftshift due to different impl.\n",
        "        wave_est = np.real(np.fft.ifft(spectral_slice))[::-1]\n",
        "        if calculate_offset and i > 0:\n",
        "            offset_size = size - step\n",
        "            if offset_size <= 0:\n",
        "                print(\"WARNING: Large step size >50\\% detected! \"\n",
        "                      \"This code works best with high overlap - try \"\n",
        "                      \"with 75% or greater\")\n",
        "                offset_size = step\n",
        "            offset = xcorr_offset(wave[wave_start:wave_start + offset_size],\n",
        "                                  wave_est[est_start:est_start + offset_size])\n",
        "        else:\n",
        "            offset = 0\n",
        "        wave[wave_start:wave_end] += win * wave_est[\n",
        "            est_start - offset:est_end - offset]\n",
        "        total_windowing_sum[wave_start:wave_end] += win\n",
        "    wave = np.real(wave) / (total_windowing_sum + 1E-6)\n",
        "    return wave\n",
        "\n",
        "def xcorr_offset(x1, x2):\n",
        "    \"\"\"\n",
        "    Under MSR-LA License\n",
        "    Based on MATLAB implementation from Spectrogram Inversion Toolbox\n",
        "    References\n",
        "    ----------\n",
        "    D. Griffin and J. Lim. Signal estimation from modified\n",
        "    short-time Fourier transform. IEEE Trans. Acoust. Speech\n",
        "    Signal Process., 32(2):236-243, 1984.\n",
        "    Malcolm Slaney, Daniel Naar and Richard F. Lyon. Auditory\n",
        "    Model Inversion for Sound Separation. Proc. IEEE-ICASSP,\n",
        "    Adelaide, 1994, II.77-80.\n",
        "    Xinglei Zhu, G. Beauregard, L. Wyse. Real-Time Signal\n",
        "    Estimation from Modified Short-Time Fourier Transform\n",
        "    Magnitude Spectra. IEEE Transactions on Audio Speech and\n",
        "    Language Processing, 08/2007.\n",
        "    \"\"\"\n",
        "    x1 = x1 - x1.mean()\n",
        "    x2 = x2 - x2.mean()\n",
        "    frame_size = len(x2)\n",
        "    half = frame_size // 2\n",
        "    corrs = np.convolve(x1.astype('float32'), x2[::-1].astype('float32'))\n",
        "    corrs[:half] = -1E30\n",
        "    corrs[-half:] = -1E30\n",
        "    offset = corrs.argmax() - len(x1)\n",
        "    return offset\n",
        "\n",
        "\n",
        " "
      ],
      "execution_count": 0,
      "outputs": []
    },
    {
      "metadata": {
        "id": "QPuU8pcleZ1k",
        "colab_type": "text"
      },
      "cell_type": "markdown",
      "source": [
        "**Now we initialize some helper functions and necessary parameters.**"
      ]
    },
    {
      "metadata": {
        "id": "zp4Ow9NwZoob",
        "colab_type": "code",
        "colab": {}
      },
      "cell_type": "code",
      "source": [
        "def pad_audio(samples, t=1, L=8000):\n",
        "    if len(samples) >= t*L: return samples\n",
        "    else: return np.pad(samples, pad_width=(L - len(samples), 0), mode='constant', constant_values=(0, 0))\n",
        "\n",
        "def chop_audio(samples, t=1, L=8000):\n",
        "    if len(samples) <= t*L: return samples\n",
        "    else: return samples[0:L] \n",
        "    \n",
        "def get_data(paths, label):\n",
        "  \n",
        "  new_sample_rate = 8000\n",
        "  max_len=20\n",
        "  X = []\n",
        "  Y = []\n",
        " \n",
        "  for i, fname in enumerate(paths):\n",
        "    sample_rate, samples = wavfile.read(fname)    \n",
        "    resampled = signal.resample(samples, int(8000 / sample_rate * samples.shape[0]))\n",
        "    samples = pad_audio(resampled)\n",
        "    samples = chop_audio(samples)\n",
        "    specgram = pretty_spectrogram(samples.astype('float64'), fft_size = fft_size, \n",
        "                                   step_size = int(step_size), log = True, thresh = spec_thresh)\n",
        "    Y.append(label)\n",
        "    X.append(specgram)\n",
        "    \n",
        "    if i==len(paths)-1:\n",
        "        end='\\n'\n",
        "    else: end='\\r'\n",
        "    print('processed {}/{}'.format(i+1,len(paths)),end=end)\n",
        "    \n",
        "  Y = to_categorical(Y, 10)\n",
        "  \n",
        "  return X, Y  \n",
        "\n",
        "### Parameters ###\n",
        "L = 8000 #sample rate\n",
        "fft_size = 320 # window size for the FFT\n",
        "step_size = fft_size/6 # distance to slide along the window (in time)\n",
        "spec_thresh = 4 # threshold for spectrograms (lower filters out more noise)\n",
        "lowcut = 500 # Hz # Low cut for our butter bandpass filter\n",
        "highcut = 8000 # Hz # High cut for our butter bandpass filter"
      ],
      "execution_count": 0,
      "outputs": []
    },
    {
      "metadata": {
        "id": "5yRQzVHvCNmS",
        "colab_type": "text"
      },
      "cell_type": "markdown",
      "source": [
        "**A conversion of sample wav data to it's spectrogram representation is shown below. We resample the audio file with 8000 sample rate. Each audio file is padded and chopped to be of size 1 second.**"
      ]
    },
    {
      "metadata": {
        "id": "s_chHRHkpmMn",
        "colab_type": "code",
        "colab": {
          "base_uri": "https://localhost:8080/",
          "height": 450
        },
        "outputId": "71fd8630-a395-45e4-e798-69ff9dd80ff2"
      },
      "cell_type": "code",
      "source": [
        "# Grab your wav and filter it\n",
        "mywav = 'zero/0132a06d_nohash_1.wav'\n",
        "rate, data = wavfile.read(mywav)\n",
        "data = signal.resample(data, int(8000 / rate * data.shape[0]))\n",
        "print('Original sample rate: ', rate)\n",
        "rate = 8000\n",
        "data = pad_audio(data)\n",
        "data = chop_audio(data)\n",
        "#data = butter_bandpass_filter(data, lowcut, highcut, rate, order=1)\n",
        "# Only use a short clip for our demo\n",
        "if np.shape(data)[0]/float(rate) > 10:\n",
        "    data = data[0:rate*10] \n",
        "print('Length in time (s): ', np.shape(data)[0]/float(rate))\n",
        "\n",
        "wav_spectrogram = pretty_spectrogram(data.astype('float64'), fft_size = fft_size, \n",
        "                                   step_size = int(step_size), log = True, thresh = spec_thresh)\n",
        "\n",
        "fig, ax = plt.subplots(nrows=1,ncols=1, figsize=(6,6))\n",
        "cax = ax.matshow(np.transpose(wav_spectrogram), interpolation='nearest', aspect='auto', cmap=plt.cm.afmhot, origin='lower')\n",
        "fig.colorbar(cax)\n",
        "plt.title('Original Spectrogram')"
      ],
      "execution_count": 5,
      "outputs": [
        {
          "output_type": "stream",
          "text": [
            "Original sample rate:  16000\n",
            "Length in time (s):  1.0\n"
          ],
          "name": "stdout"
        },
        {
          "output_type": "execute_result",
          "data": {
            "text/plain": [
              "Text(0.5,1.05,'Original Spectrogram')"
            ]
          },
          "metadata": {
            "tags": []
          },
          "execution_count": 5
        },
        {
          "output_type": "display_data",
          "data": {
            "image/png": "[encoded data removed]",
            "text/plain": [
              "<matplotlib.figure.Figure at 0x7f948d178390>"
            ]
          },
          "metadata": {
            "tags": []
          }
        }
      ]
    },
    {
      "metadata": {
        "id": "6Ewo2_05px_l",
        "colab_type": "code",
        "colab": {
          "base_uri": "https://localhost:8080/",
          "height": 79
        },
        "outputId": "cca049a1-02a9-46e9-aa54-4fa03b8eff02"
      },
      "cell_type": "code",
      "source": [
        "# Invert from the spectrogram back to a waveform\n",
        "recovered_audio_orig = invert_pretty_spectrogram(wav_spectrogram, fft_size = fft_size,\n",
        "                                            step_size = int(step_size), log = True, n_iter = 10)\n",
        "print(recovered_audio_orig.shape)\n",
        "IPython.display.Audio(data=recovered_audio_orig, rate=8000) # play the audio"
      ],
      "execution_count": 6,
      "outputs": [
        {
          "output_type": "stream",
          "text": [
            "(8110,)\n"
          ],
          "name": "stdout"
        },
        {
          "output_type": "execute_result",
          "data": {
            "text/html": [
              "\n",
              "                <audio controls=\"controls\" >\n",
              "                    <source src=\"data:audio/wav;base64,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\" type=\"audio/wav\" />\n",
              "                    Your browser does not support the audio element.\n",
              "                </audio>\n",
              "              "
            ],
            "text/plain": [
              "<IPython.lib.display.Audio object>"
            ]
          },
          "metadata": {
            "tags": []
          },
          "execution_count": 6
        }
      ]
    },
    {
      "metadata": {
        "id": "h1ppv7rqfn7o",
        "colab_type": "text"
      },
      "cell_type": "markdown",
      "source": [
        "**Below lines are useful to extract the paths of all the command audio files. For simplicity of demonstration and training, we choose only the audio files of ten english digits and classify them.**"
      ]
    },
    {
      "metadata": {
        "id": "DfSwVYMSHE-D",
        "colab_type": "code",
        "colab": {}
      },
      "cell_type": "code",
      "source": [
        "data_dir=os.path.join('')\n",
        "paths_a=glob.glob(os.path.join(data_dir,'one','*.wav'))\n",
        "paths_b=glob.glob(os.path.join(data_dir,'two','*.wav'))\n",
        "paths_c=glob.glob(os.path.join(data_dir,'three','*.wav'))\n",
        "paths_d=glob.glob(os.path.join(data_dir,'four','*.wav'))\n",
        "paths_e=glob.glob(os.path.join(data_dir,'five','*.wav'))\n",
        "paths_f=glob.glob(os.path.join(data_dir,'six','*.wav'))\n",
        "paths_g=glob.glob(os.path.join(data_dir,'seven','*.wav'))\n",
        "paths_h=glob.glob(os.path.join(data_dir,'eight','*.wav'))\n",
        "paths_i=glob.glob(os.path.join(data_dir,'nine','*.wav'))\n",
        "paths_j=glob.glob(os.path.join(data_dir,'zero','*.wav'))\n",
        "paths_all=paths_a+paths_b+paths_c+paths_d+paths_e+paths_f+paths_g+paths_h+paths_i+paths_j"
      ],
      "execution_count": 0,
      "outputs": []
    },
    {
      "metadata": {
        "id": "n3emZ5rMfzAp",
        "colab_type": "text"
      },
      "cell_type": "markdown",
      "source": [
        "**Now we read and preprocess all the digit speech commands and convert them to their respective spectrograms.**"
      ]
    },
    {
      "metadata": {
        "id": "Jogn3jhtnreL",
        "colab_type": "code",
        "outputId": "a7ba8e90-448e-4af9-e2b3-fc27e8495a38",
        "colab": {
          "base_uri": "https://localhost:8080/",
          "height": 223
        }
      },
      "cell_type": "code",
      "source": [
        "X_a, Y_a=get_data(paths_a,1)\n",
        "X_b, Y_b=get_data(paths_b,2)\n",
        "X = np.concatenate((X_a, X_b), axis=0)\n",
        "Y = np.concatenate((Y_a, Y_b), axis=0)\n",
        "X_a, Y_a=get_data(paths_c,3)\n",
        "X_b, Y_b=get_data(paths_d,4)\n",
        "X = np.concatenate((X, X_a, X_b), axis=0)\n",
        "Y = np.concatenate((Y, Y_a, Y_b), axis=0)\n",
        "X_a, Y_a=get_data(paths_e,5)\n",
        "X_b, Y_b=get_data(paths_f,6)\n",
        "X = np.concatenate((X, X_a, X_b), axis=0)\n",
        "Y = np.concatenate((Y, Y_a, Y_b), axis=0)\n",
        "X_a, Y_a=get_data(paths_g,7)\n",
        "X_b, Y_b=get_data(paths_h,8)\n",
        "X = np.concatenate((X, X_a, X_b), axis=0)\n",
        "Y = np.concatenate((Y, Y_a, Y_b), axis=0)\n",
        "del X_b\n",
        "del Y_b\n",
        "X_a, Y_a=get_data(paths_i,9)\n",
        "X = np.concatenate((X, X_a), axis=0)\n",
        "Y = np.concatenate((Y, Y_a), axis=0)\n",
        "X_a, Y_a=get_data(paths_j,0)\n",
        "X = np.concatenate((X, X_a), axis=0)\n",
        "Y = np.concatenate((Y, Y_a), axis=0)\n",
        "X.shape, Y.shape"
      ],
      "execution_count": 8,
      "outputs": [
        {
          "output_type": "stream",
          "text": [
            "processed 2370/2370\n",
            "processed 2373/2373\n",
            "processed 2356/2356\n",
            "processed 2372/2372\n",
            "processed 2357/2357\n",
            "processed 2369/2369\n",
            "processed 2377/2377\n",
            "processed 2352/2352\n",
            "processed 2364/2364\n",
            "processed 2376/2376\n"
          ],
          "name": "stdout"
        },
        {
          "output_type": "execute_result",
          "data": {
            "text/plain": [
              "((23666, 150, 160), (23666, 10))"
            ]
          },
          "metadata": {
            "tags": []
          },
          "execution_count": 8
        }
      ]
    },
    {
      "metadata": {
        "id": "9TdvqQl6gMCB",
        "colab_type": "text"
      },
      "cell_type": "markdown",
      "source": [
        "**After preprocessing we split the data to train and validation sets.**"
      ]
    },
    {
      "metadata": {
        "id": "XkYriAirI9sj",
        "colab_type": "code",
        "outputId": "91666467-80d2-4f0d-bd5d-873e6a1239ee",
        "colab": {
          "base_uri": "https://localhost:8080/",
          "height": 36
        }
      },
      "cell_type": "code",
      "source": [
        "X_train, X_val, Y_train, Y_val = train_test_split(X, Y, test_size=0.15, random_state=5, shuffle=True)\n",
        "X_train = X_train.reshape((X_train.shape[0],X_train.shape[1], X_train.shape[2],1))\n",
        "X_val = X_val.reshape(X_val.shape[0],X_val.shape[1], X_val.shape[2],1)\n",
        "X_train.shape, X_val.shape"
      ],
      "execution_count": 9,
      "outputs": [
        {
          "output_type": "execute_result",
          "data": {
            "text/plain": [
              "((20116, 150, 160, 1), (3550, 150, 160, 1))"
            ]
          },
          "metadata": {
            "tags": []
          },
          "execution_count": 9
        }
      ]
    },
    {
      "metadata": {
        "id": "5KCGKSVhgTGp",
        "colab_type": "text"
      },
      "cell_type": "markdown",
      "source": [
        "**Now we define the function for declaring the CNN model.**"
      ]
    },
    {
      "metadata": {
        "id": "FH7bQZ1sUaT0",
        "colab_type": "code",
        "colab": {}
      },
      "cell_type": "code",
      "source": [
        "def custom():\n",
        "  \n",
        "  model = Sequential()\n",
        "  model.add(Conv2D(16, kernel_size=(7, 7), name='one', activation='relu', padding='same', input_shape=(X_train.shape[1], X_train.shape[2], 1), kernel_initializer=glorot_uniform(seed=0)))\n",
        "  model.add(BatchNormalization(axis=3))\n",
        "  model.add(MaxPooling2D(pool_size=(2, 2)))\n",
        "  model.add(Dropout(0.25))\n",
        "  \n",
        "  model.add(Conv2D(16, kernel_size=(5, 5), name='two', activation='relu', padding='same', kernel_initializer=glorot_uniform(seed=0)))\n",
        "  model.add(BatchNormalization(axis=3))\n",
        "  model.add(MaxPooling2D(pool_size=(2, 2)))\n",
        "  model.add(Dropout(0.25))\n",
        "  \n",
        "  model.add(Conv2D(32, kernel_size=(3, 3), name='three', activation='relu', padding='same', kernel_initializer=glorot_uniform(seed=0)))\n",
        "  model.add(BatchNormalization(axis=3))\n",
        "  model.add(MaxPooling2D(pool_size=(2, 2)))\n",
        "  model.add(Dropout(0.25))\n",
        "  \n",
        "  model.add(Flatten())\n",
        "  model.add(Dense(256, activation='relu'))\n",
        "  model.add(Dropout(0.25))\n",
        "  model.add(Dense(10, activation='softmax'))\n",
        "  model.compile(loss='categorical_crossentropy',\n",
        "                optimizer='adam',\n",
        "                metrics=['accuracy'])\n",
        "\n",
        "  return model"
      ],
      "execution_count": 0,
      "outputs": []
    },
    {
      "metadata": {
        "id": "wXJpTI5yhY-o",
        "colab_type": "text"
      },
      "cell_type": "markdown",
      "source": [
        "**After designing our CNN model, we now train it for several epochs with dynamic learning rate and model checkpoint. The simple CNN model gives 95% accuracy with minimal hyper-parameter tuning.**"
      ]
    },
    {
      "metadata": {
        "id": "sQu8iwFpbIc5",
        "colab_type": "code",
        "colab": {}
      },
      "cell_type": "code",
      "source": [
        "K.tensorflow_backend.clear_session()\n",
        "\n",
        "model = custom()\n",
        "model.summary()\n",
        "K.set_value(model.optimizer.lr,0.001)\n",
        "model_check_point = ModelCheckpoint(filepath='model.hdf5', save_best_only=True)\n",
        "\n",
        "learning_rate_reduction = ReduceLROnPlateau(monitor='val_acc', \n",
        "                                            patience=3, \n",
        "                                            verbose=1, \n",
        "                                            factor=0.5, \n",
        "                                            min_lr=0.00001)\n",
        "\n",
        "h=model.fit(x=(X_train), y=Y_train, batch_size=32,\n",
        "            epochs=15, \n",
        "            verbose=1,          \n",
        "            validation_data=((X_val),Y_val),\n",
        "            shuffle=True,\n",
        "            callbacks=[learning_rate_reduction,model_check_point]\n",
        "            )\n"
      ],
      "execution_count": 0,
      "outputs": []
    }
  ]
}